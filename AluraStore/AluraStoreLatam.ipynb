{
  "nbformat": 4,
  "nbformat_minor": 0,
  "metadata": {
    "colab": {
      "provenance": []
    },
    "kernelspec": {
      "name": "python3",
      "display_name": "Python 3"
    },
    "language_info": {
      "name": "python"
    }
  },
  "cells": [
    {
      "cell_type": "markdown",
      "source": [
        "### Importación de datos\n",
        "\n"
      ],
      "metadata": {
        "id": "RhEdWd9YUR6H"
      }
    },
    {
      "cell_type": "code",
      "execution_count": 40,
      "metadata": {
        "colab": {
          "base_uri": "https://localhost:8080/"
        },
        "id": "T3EvaeQ_INIL",
        "outputId": "822c988b-ee94-49f8-eb9b-a6c803c75365"
      },
      "outputs": [
        {
          "output_type": "stream",
          "name": "stdout",
          "text": [
            "            Producto Categoría del Producto    Precio  Costo de envío  \\\n",
            "0  Asistente virtual           Electrónicos  164300.0          6900.0   \n",
            "1    Mesa de comedor                Muebles  192300.0          8400.0   \n",
            "2      Juego de mesa               Juguetes  209600.0         15900.0   \n",
            "3         Microondas      Electrodomésticos  757500.0         41000.0   \n",
            "4   Silla de oficina                Muebles  335200.0         20200.0   \n",
            "\n",
            "  Fecha de Compra         Vendedor Lugar de Compra  Calificación  \\\n",
            "0      16/01/2021      Pedro Gomez          Bogotá             4   \n",
            "1      18/05/2022  Beatriz Morales        Medellín             1   \n",
            "2      15/03/2021   Juan Fernandez       Cartagena             1   \n",
            "3      03/05/2022   Juan Fernandez            Cali             4   \n",
            "4      07/11/2020    Maria Alfonso        Medellín             5   \n",
            "\n",
            "       Método de pago  Cantidad de cuotas       lat       lon  \n",
            "0  Tarjeta de crédito                   8   4.60971 -74.08175  \n",
            "1  Tarjeta de crédito                   4   6.25184 -75.56359  \n",
            "2  Tarjeta de crédito                   1  10.39972 -75.51444  \n",
            "3               Nequi                   1   3.43722 -76.52250  \n",
            "4               Nequi                   1   6.25184 -75.56359  \n"
          ]
        }
      ],
      "source": [
        "import pandas as pd\n",
        "import matplotlib.pyplot as plt\n",
        "url = \"https://raw.githubusercontent.com/alura-es-cursos/challenge1-data-science-latam/refs/heads/main/base-de-datos-challenge1-latam/tienda_1%20.csv\"\n",
        "url2 = \"https://raw.githubusercontent.com/alura-es-cursos/challenge1-data-science-latam/refs/heads/main/base-de-datos-challenge1-latam/tienda_2.csv\"\n",
        "url3 = \"https://raw.githubusercontent.com/alura-es-cursos/challenge1-data-science-latam/refs/heads/main/base-de-datos-challenge1-latam/tienda_3.csv\"\n",
        "url4 = \"https://raw.githubusercontent.com/alura-es-cursos/challenge1-data-science-latam/refs/heads/main/base-de-datos-challenge1-latam/tienda_4.csv\"\n",
        "\n",
        "tienda1 = pd.read_csv(url)\n",
        "tienda2 = pd.read_csv(url2)\n",
        "tienda3 = pd.read_csv(url3)\n",
        "tienda4 = pd.read_csv(url4)\n",
        "\n",
        "print(tienda1.head())\n",
        "\n"
      ]
    },
    {
      "cell_type": "markdown",
      "source": [
        "#1. Análisis de facturación\n",
        "\n"
      ],
      "metadata": {
        "id": "X62IW3KFUIYm"
      }
    },
    {
      "cell_type": "code",
      "source": [
        "ingresos_totales1=tienda1[\"Precio\"].sum()\n",
        "ingresos_totales2=tienda2[\"Precio\"].sum()\n",
        "ingresos_totales3=tienda3[\"Precio\"].sum()\n",
        "ingresos_totales4=tienda4[\"Precio\"].sum()\n",
        "ingreso_total=ingresos_totales1+ingresos_totales2+ingresos_totales3+ingresos_totales4"
      ],
      "metadata": {
        "id": "xykobSftV64I"
      },
      "execution_count": null,
      "outputs": []
    },
    {
      "cell_type": "markdown",
      "source": [
        "# 2. Ventas por categoría"
      ],
      "metadata": {
        "id": "2V_vcAPzWZmR"
      }
    },
    {
      "cell_type": "code",
      "source": [
        "ventas_por_categoria1=tienda1[\"Categoría del Producto\"].value_counts()\n",
        "ventas_por_categoria2=tienda2[\"Categoría del Producto\"].value_counts()\n",
        "ventas_por_categoria3=tienda3[\"Categoría del Producto\"].value_counts()\n",
        "ventas_por_categoria4=tienda4[\"Categoría del Producto\"].value_counts()\n"
      ],
      "metadata": {
        "id": "A34YupIuYhfF"
      },
      "execution_count": 15,
      "outputs": []
    },
    {
      "cell_type": "code",
      "source": [
        "print(ventas_por_categoria1)\n",
        "print(\"-------------------------------------------------------------------\")\n",
        "print(ventas_por_categoria2)\n",
        "print(\"-------------------------------------------------------------------\")\n",
        "print(ventas_por_categoria3)\n",
        "print(\"-------------------------------------------------------------------\")\n",
        "print(ventas_por_categoria4)\n",
        "print(\"-------------------------------------------------------------------\")\n",
        "\n",
        "ventas_totales=ventas_por_categoria1+ventas_por_categoria2+ventas_por_categoria3+ventas_por_categoria4\n",
        "ventas_totales_ordenadas=ventas_totales.sort_values(ascending=False)\n",
        "print(ventas_totales_ordenadas)"
      ],
      "metadata": {
        "id": "brV1uce0vfVr",
        "outputId": "793a65b2-076f-46df-8c18-dc7c710b8afb",
        "colab": {
          "base_uri": "https://localhost:8080/"
        }
      },
      "execution_count": 24,
      "outputs": [
        {
          "output_type": "stream",
          "name": "stdout",
          "text": [
            "Categoría del Producto\n",
            "Muebles                    465\n",
            "Electrónicos               448\n",
            "Juguetes                   324\n",
            "Electrodomésticos          312\n",
            "Deportes y diversión       284\n",
            "Instrumentos musicales     182\n",
            "Libros                     173\n",
            "Artículos para el hogar    171\n",
            "Name: count, dtype: int64\n",
            "-------------------------------------------------------------------\n",
            "Categoría del Producto\n",
            "Muebles                    442\n",
            "Electrónicos               422\n",
            "Juguetes                   313\n",
            "Electrodomésticos          305\n",
            "Deportes y diversión       275\n",
            "Instrumentos musicales     224\n",
            "Libros                     197\n",
            "Artículos para el hogar    181\n",
            "Name: count, dtype: int64\n",
            "-------------------------------------------------------------------\n",
            "Categoría del Producto\n",
            "Muebles                    499\n",
            "Electrónicos               451\n",
            "Juguetes                   315\n",
            "Electrodomésticos          278\n",
            "Deportes y diversión       277\n",
            "Libros                     185\n",
            "Instrumentos musicales     177\n",
            "Artículos para el hogar    177\n",
            "Name: count, dtype: int64\n",
            "-------------------------------------------------------------------\n",
            "Categoría del Producto\n",
            "Muebles                    480\n",
            "Electrónicos               451\n",
            "Juguetes                   338\n",
            "Deportes y diversión       277\n",
            "Electrodomésticos          254\n",
            "Artículos para el hogar    201\n",
            "Libros                     187\n",
            "Instrumentos musicales     170\n",
            "Name: count, dtype: int64\n",
            "-------------------------------------------------------------------\n",
            "Categoría del Producto\n",
            "Muebles                    1886\n",
            "Electrónicos               1772\n",
            "Juguetes                   1290\n",
            "Electrodomésticos          1149\n",
            "Deportes y diversión       1113\n",
            "Instrumentos musicales      753\n",
            "Libros                      742\n",
            "Artículos para el hogar     730\n",
            "Name: count, dtype: int64\n"
          ]
        }
      ]
    },
    {
      "cell_type": "markdown",
      "source": [
        "# 3. Calificación promedio de la tienda\n"
      ],
      "metadata": {
        "id": "Rq6tU_xSY3jk"
      }
    },
    {
      "cell_type": "code",
      "source": [
        "calificacion1=tienda1[\"Calificación\"].mean()\n",
        "calificacion2=tienda2[\"Calificación\"].mean()\n",
        "calificacion3=tienda3[\"Calificación\"].mean()\n",
        "calificacion4=tienda4['Calificación'].mean()"
      ],
      "metadata": {
        "id": "bh3jjjJwY5MU"
      },
      "execution_count": 26,
      "outputs": []
    },
    {
      "cell_type": "code",
      "source": [
        "print(calificacion1)\n",
        "print(\"-------------------------------------------------------------------\")\n",
        "print(calificacion2)\n",
        "print(\"-------------------------------------------------------------------\")\n",
        "print(calificacion3)\n",
        "print(\"-------------------------------------------------------------------\")\n",
        "print(calificacion4)\n",
        "print(\"-------------------------------------------------------------------\")\n",
        "\n",
        "calificacion_prom=(calificacion1+calificacion2+calificacion3+calificacion4)/4\n",
        "print(calificacion_prom)"
      ],
      "metadata": {
        "id": "7mq1PSniwvyf",
        "outputId": "838136b4-2fec-4505-8860-533ac7a94109",
        "colab": {
          "base_uri": "https://localhost:8080/"
        }
      },
      "execution_count": 27,
      "outputs": [
        {
          "output_type": "stream",
          "name": "stdout",
          "text": [
            "3.976685036032217\n",
            "-------------------------------------------------------------------\n",
            "4.037303942348453\n",
            "-------------------------------------------------------------------\n",
            "4.048325561678677\n",
            "-------------------------------------------------------------------\n",
            "3.9957591178965224\n",
            "-------------------------------------------------------------------\n",
            "4.014518414488967\n"
          ]
        }
      ]
    },
    {
      "cell_type": "markdown",
      "source": [
        "# 4. Productos más y menos vendidos"
      ],
      "metadata": {
        "id": "DmNp1KPBZCm-"
      }
    },
    {
      "cell_type": "code",
      "source": [
        "top_sellers1=tienda1[\"Producto\"].value_counts().head(10)\n",
        "top_sellers2=tienda2[\"Producto\"].value_counts().head(10)\n",
        "top_sellers3=tienda3[\"Producto\"].value_counts().head(10)\n",
        "top_sellers4=tienda4[\"Producto\"].value_counts().head(10)\n"
      ],
      "metadata": {
        "id": "qoyjqijQZHfF"
      },
      "execution_count": 31,
      "outputs": []
    },
    {
      "cell_type": "code",
      "source": [
        "print(top_sellers1)\n",
        "print(\"-------------------------------------------------------------------\")\n",
        "print(top_sellers2)\n",
        "print(\"-------------------------------------------------------------------\")\n",
        "print(top_sellers3)\n",
        "print(\"-------------------------------------------------------------------\")\n",
        "print(top_sellers4)\n",
        "print(\"-------------------------------------------------------------------\")"
      ],
      "metadata": {
        "id": "0Sw3sd4IZIGW",
        "colab": {
          "base_uri": "https://localhost:8080/"
        },
        "outputId": "4632bc5d-1b44-42f7-f992-0506b81fb106"
      },
      "execution_count": 32,
      "outputs": [
        {
          "output_type": "stream",
          "name": "stdout",
          "text": [
            "Producto\n",
            "Microondas                 60\n",
            "TV LED UHD 4K              60\n",
            "Armario                    60\n",
            "Secadora de ropa           58\n",
            "Mesa de noche              56\n",
            "Bloques de construcción    56\n",
            "Balón de baloncesto        55\n",
            "Bicicleta                  54\n",
            "Vaso térmico               54\n",
            "Refrigerador               54\n",
            "Name: count, dtype: int64\n",
            "-------------------------------------------------------------------\n",
            "Producto\n",
            "Iniciando en programación    65\n",
            "Microondas                   62\n",
            "Batería                      61\n",
            "Guitarra acústica            58\n",
            "Pandereta                    58\n",
            "Secadora de ropa             57\n",
            "Iphone 15                    55\n",
            "Bloques de construcción      54\n",
            "Armario                      54\n",
            "Set de ollas                 52\n",
            "Name: count, dtype: int64\n",
            "-------------------------------------------------------------------\n",
            "Producto\n",
            "Kit de bancas                57\n",
            "Mesa de comedor              56\n",
            "Cama king                    56\n",
            "Set de ollas                 55\n",
            "Mesa de noche                55\n",
            "Smart TV                     54\n",
            "Estufa                       53\n",
            "Cuerda para saltar           53\n",
            "Modelado predictivo          53\n",
            "Carrito de control remoto    52\n",
            "Name: count, dtype: int64\n",
            "-------------------------------------------------------------------\n",
            "Producto\n",
            "Cama box                     62\n",
            "Cubertería                   59\n",
            "Dashboards con Power BI      56\n",
            "Cama king                    56\n",
            "Carrito de control remoto    55\n",
            "Mesa de comedor              55\n",
            "Mesa de noche                55\n",
            "Smart TV                     54\n",
            "Bloques de construcción      54\n",
            "Pandereta                    52\n",
            "Name: count, dtype: int64\n",
            "-------------------------------------------------------------------\n"
          ]
        }
      ]
    },
    {
      "cell_type": "code",
      "source": [
        "lower_sellers1=tienda1[\"Producto\"].value_counts().tail(10).sort_values(ascending=True)\n",
        "lower_sellers2=tienda2[\"Producto\"].value_counts().tail(10).sort_values(ascending=True)\n",
        "lower_sellers3=tienda3[\"Producto\"].value_counts().tail(10).sort_values(ascending=True)\n",
        "lower_sellers4=tienda4[\"Producto\"].value_counts().tail(10).sort_values(ascending=True)"
      ],
      "metadata": {
        "id": "LfCjhsvgxypm"
      },
      "execution_count": 35,
      "outputs": []
    },
    {
      "cell_type": "code",
      "source": [
        "print(lower_sellers1)\n",
        "print(\"-------------------------------------------------------------------\")\n",
        "print(lower_sellers2)\n",
        "print(\"-------------------------------------------------------------------\")\n",
        "print(lower_sellers3)\n",
        "print(\"-------------------------------------------------------------------\")\n",
        "print(lower_sellers4)\n",
        "print(\"-------------------------------------------------------------------\")"
      ],
      "metadata": {
        "id": "yqzZBPg5xyab",
        "outputId": "a88f6b79-7333-4aa9-b677-c9202553d702",
        "colab": {
          "base_uri": "https://localhost:8080/"
        }
      },
      "execution_count": 36,
      "outputs": [
        {
          "output_type": "stream",
          "name": "stdout",
          "text": [
            "Producto\n",
            "Celular ABXY                   33\n",
            "Auriculares con micrófono      33\n",
            "Olla de presión                35\n",
            "Pandereta                      36\n",
            "Mochila                        39\n",
            "Ciencia de datos con Python    39\n",
            "Cuerda para saltar             40\n",
            "Dinosaurio Rex                 40\n",
            "Muñeca bebé                    40\n",
            "Mesa de comedor                40\n",
            "Name: count, dtype: int64\n",
            "-------------------------------------------------------------------\n",
            "Producto\n",
            "Juego de mesa        32\n",
            "Mesa de comedor      34\n",
            "Impresora            34\n",
            "Sillón               35\n",
            "Auriculares          37\n",
            "Asistente virtual    38\n",
            "Cubertería           39\n",
            "Smart TV             40\n",
            "Celular ABXY         41\n",
            "Dinosaurio Rex       42\n",
            "Name: count, dtype: int64\n",
            "-------------------------------------------------------------------\n",
            "Producto\n",
            "Bloques de construcción      35\n",
            "Set de vasos                 36\n",
            "Microondas                   36\n",
            "Mochila                      36\n",
            "Vaso térmico                 38\n",
            "Guitarra eléctrica           38\n",
            "Asistente virtual            39\n",
            "Auriculares con micrófono    39\n",
            "Cubertería                   39\n",
            "Muñeca bebé                  39\n",
            "Name: count, dtype: int64\n",
            "-------------------------------------------------------------------\n",
            "Producto\n",
            "Guitarra eléctrica             33\n",
            "Armario                        34\n",
            "Guitarra acústica              37\n",
            "Ciencia de datos con Python    38\n",
            "Lavadora de ropa               38\n",
            "Refrigerador                   38\n",
            "Ajedrez de madera              39\n",
            "Smartwatch                     39\n",
            "Celular ABXY                   39\n",
            "Silla de oficina               40\n",
            "Name: count, dtype: int64\n",
            "-------------------------------------------------------------------\n"
          ]
        }
      ]
    },
    {
      "cell_type": "markdown",
      "source": [
        "# 5. Envío promedio por tienda"
      ],
      "metadata": {
        "id": "Fl0cGi3bZKqU"
      }
    },
    {
      "cell_type": "code",
      "source": [
        "envio_prom1=tienda1[\"Costo de envío\"].mean()\n",
        "envio_prom2=tienda2[\"Costo de envío\"].mean()\n",
        "envio_prom3=tienda3[\"Costo de envío\"].mean()\n",
        "envio_prom4=tienda4[\"Costo de envío\"].mean()"
      ],
      "metadata": {
        "id": "S2JeaCykZNy9"
      },
      "execution_count": 38,
      "outputs": []
    },
    {
      "cell_type": "code",
      "source": [
        "print(envio_prom1)\n",
        "print(\"-------------------------------------------------------------------\")\n",
        "print(envio_prom2)\n",
        "print(\"-------------------------------------------------------------------\")\n",
        "print(envio_prom3)\n",
        "print(\"-------------------------------------------------------------------\")\n",
        "print(envio_prom4)"
      ],
      "metadata": {
        "id": "0tSdCie9ZQlt",
        "colab": {
          "base_uri": "https://localhost:8080/"
        },
        "outputId": "b80cc54e-3fad-439f-a5e5-cb99da14cc11"
      },
      "execution_count": 39,
      "outputs": [
        {
          "output_type": "stream",
          "name": "stdout",
          "text": [
            "26018.60958033065\n",
            "-------------------------------------------------------------------\n",
            "25216.235693090293\n",
            "-------------------------------------------------------------------\n",
            "24805.680373039424\n",
            "-------------------------------------------------------------------\n",
            "23459.457167090754\n"
          ]
        }
      ]
    }
  ]
}